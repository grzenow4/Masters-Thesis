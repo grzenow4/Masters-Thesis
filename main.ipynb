{
 "cells": [
  {
   "cell_type": "code",
   "execution_count": null,
   "id": "02b9f5a5",
   "metadata": {},
   "outputs": [],
   "source": [
    "import sys\n",
    "sys.path.append(\"code\")"
   ]
  },
  {
   "cell_type": "code",
   "execution_count": null,
   "id": "a4ec600f",
   "metadata": {},
   "outputs": [],
   "source": [
    "import gurobipy as gp\n",
    "\n",
    "from pabutools.election import Cost_Sat\n",
    "from pabutools.rules import (\n",
    "    greedy_utilitarian_welfare,\n",
    "    method_of_equal_shares,\n",
    ")\n",
    "\n",
    "from analysis import (\n",
    "    measure_execution_times,\n",
    "    plot_results,\n",
    "    plot_status,\n",
    ")\n",
    "from rules import (\n",
    "    bounded_overspending,\n",
    "    random_rule,\n",
    ")\n",
    "from utils import (\n",
    "    load_from_file,\n",
    "    load_pabulib_data,\n",
    "    split_pabulib_data,\n",
    ")"
   ]
  },
  {
   "cell_type": "code",
   "execution_count": null,
   "id": "ac20af64",
   "metadata": {},
   "outputs": [],
   "source": [
    "options = {\n",
    "    \"WLSACCESSID\": \"28b421f7-ce57-4c2a-984c-638c3c5bc36a\",\n",
    "    \"WLSSECRET\": \"c6033da4-215d-4ca5-80e6-7f2eb60b2823\",\n",
    "    \"LICENSEID\": 2637506,\n",
    "}\n",
    "env = gp.Env(params=options)\n",
    "\n",
    "sat_class = Cost_Sat\n",
    "rule = \"mes\"\n",
    "src_dir = \"pabulib/\""
   ]
  },
  {
   "cell_type": "code",
   "execution_count": null,
   "id": "70273e50",
   "metadata": {},
   "outputs": [],
   "source": [
    "elections = load_pabulib_data(src_dir)\n",
    "split_approval_elections = split_pabulib_data(elections, \"approval\")"
   ]
  },
  {
   "cell_type": "code",
   "execution_count": null,
   "id": "26f7a84a",
   "metadata": {},
   "outputs": [],
   "source": [
    "rules = {\n",
    "    \"mes\": lambda *args: method_of_equal_shares(*args, voter_budget_increment=5),\n",
    "    \"mes_ug\": lambda *args: greedy_utilitarian_welfare(*args, initial_budget_allocation=method_of_equal_shares(*args, voter_budget_increment=5)),\n",
    "    \"greedy\": greedy_utilitarian_welfare,\n",
    "    \"bos\": bounded_overspending,\n",
    "    \"random\": random_rule,\n",
    "}\n",
    "\n",
    "outcomes = {\n",
    "    \"mes\": load_from_file(f\"outcomes/mes.out\"),\n",
    "    \"mes_ug\": load_from_file(f\"outcomes/mes-ug.out\"),\n",
    "    \"greedy\": load_from_file(f\"outcomes/greedy.out\"),\n",
    "    \"bos\": load_from_file(f\"outcomes/bos.out\"),\n",
    "    \"random\": load_from_file(f\"outcomes/random.out\"),\n",
    "}"
   ]
  },
  {
   "cell_type": "code",
   "execution_count": null,
   "id": "a80c3503",
   "metadata": {},
   "outputs": [],
   "source": [
    "times, status = measure_execution_times(\n",
    "    split_approval_elections,\n",
    "    outcomes[rule],\n",
    "    sat_class,\n",
    "    env=env,\n",
    "    relaxations=False,\n",
    "    branching_priority=False,\n",
    "    start_hint_vals=False,\n",
    "    voters_removal=True,\n",
    "    essential_projects=False\n",
    ")"
   ]
  },
  {
   "cell_type": "code",
   "execution_count": null,
   "id": "458b0d42",
   "metadata": {},
   "outputs": [],
   "source": [
    "plot_results(times)\n",
    "plot_status(status)"
   ]
  }
 ],
 "metadata": {
  "kernelspec": {
   "display_name": ".venv",
   "language": "python",
   "name": "python3"
  },
  "language_info": {
   "codemirror_mode": {
    "name": "ipython",
    "version": 3
   },
   "file_extension": ".py",
   "mimetype": "text/x-python",
   "name": "python",
   "nbconvert_exporter": "python",
   "pygments_lexer": "ipython3",
   "version": "3.11.2"
  }
 },
 "nbformat": 4,
 "nbformat_minor": 5
}
